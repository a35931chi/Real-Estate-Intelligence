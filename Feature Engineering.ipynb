{
 "cells": [
  {
   "cell_type": "code",
   "execution_count": 1,
   "metadata": {},
   "outputs": [],
   "source": [
    "from fetch_other_data import get_fed_fund, get_mtg_rate, get_market, get_census, get_irs\n",
    "from fetch_zillow_data import get_zri, get_zhvi\n",
    "\n",
    "import pandas as pd\n",
    "\n",
    "import seaborn as sns\n",
    "import matplotlib.pyplot as plt\n",
    "\n",
    "from scipy import stats\n",
    "from scipy.special import boxcox1p\n",
    "from scipy.stats import norm, skew\n",
    "\n",
    "import numpy as np"
   ]
  },
  {
   "cell_type": "code",
   "execution_count": null,
   "metadata": {},
   "outputs": [],
   "source": [
    "#grab zhvi data\n",
    "zhvi = get_zhvi(update = False)"
   ]
  },
  {
   "cell_type": "code",
   "execution_count": null,
   "metadata": {},
   "outputs": [],
   "source": [
    "#grab mortgage data\n",
    "mortgage_rate, mortgage_rate_annual = get_mtg_rate(False)"
   ]
  },
  {
   "cell_type": "code",
   "execution_count": null,
   "metadata": {},
   "outputs": [],
   "source": [
    "mortgage_rate['30 FRM Rate pct_change'] = mortgage_rate['30 FRM Rate'].pct_change()\n",
    "mortgage_rate['30 FRM Rate 1'] = mortgage_rate['30 FRM Rate'].shift(1)\n",
    "mortgage_rate['30 FRM Rate 6'] = mortgage_rate['30 FRM Rate'].shift(6)\n",
    "mortgage_rate['30 FRM Rate 12'] = mortgage_rate['30 FRM Rate'].shift(12)\n",
    "mortgage_rate['30 FRM Rate 24'] = mortgage_rate['30 FRM Rate'].shift(24)\n",
    "\n",
    "mortgage_rate['30 FRM Rate pct_change 1'] = mortgage_rate['30 FRM Rate pct_change'].shift(1)\n",
    "mortgage_rate['30 FRM Rate pct_change 6'] = mortgage_rate['30 FRM Rate pct_change'].shift(6)\n",
    "mortgage_rate['30 FRM Rate pct_change 12'] = mortgage_rate['30 FRM Rate pct_change'].shift(12)\n",
    "mortgage_rate['30 FRM Rate pct_change 24'] = mortgage_rate['30 FRM Rate pct_change'].shift(24)"
   ]
  },
  {
   "cell_type": "code",
   "execution_count": null,
   "metadata": {},
   "outputs": [],
   "source": [
    "example_zips = list(zhvi[zhvi['Home Type'] == 'All Homes'].groupby('zip')['zhvi'].count().sort_values(ascending = False).index)[:5]\n"
   ]
  },
  {
   "cell_type": "code",
   "execution_count": null,
   "metadata": {},
   "outputs": [],
   "source": [
    "temp1_df = zhvi[(zhvi['zip'].isin(example_zips)) & (zhvi['Home Type'] == 'All Homes')]\n"
   ]
  },
  {
   "cell_type": "code",
   "execution_count": null,
   "metadata": {},
   "outputs": [],
   "source": [
    "temp1_df.sort_index().groupby(['Home Type', 'zip']).zhvi.pct_change().head(20)\n"
   ]
  },
  {
   "cell_type": "code",
   "execution_count": null,
   "metadata": {},
   "outputs": [],
   "source": [
    "temp1_df['zhvi pct_change'] = temp1_df.groupby(['Home Type', 'zip']).zhvi.pct_change()\n"
   ]
  },
  {
   "cell_type": "code",
   "execution_count": null,
   "metadata": {},
   "outputs": [],
   "source": [
    "temp2_df = pd.merge(temp1_df, mortgage_rate[['30 FRM Rate', '30 FRM Rate 1',\n",
    "                                             '30 FRM Rate 6', '30 FRM Rate 12',\n",
    "                                             '30 FRM Rate 24', '30 FRM Rate pct_change',\n",
    "                                             '30 FRM Rate pct_change 1',\n",
    "                                             '30 FRM Rate pct_change 6',\n",
    "                                             '30 FRM Rate pct_change 12',\n",
    "                                             '30 FRM Rate pct_change 24']],\n",
    "                    how = 'left', left_index = True, right_index = True)"
   ]
  },
  {
   "cell_type": "code",
   "execution_count": null,
   "metadata": {},
   "outputs": [],
   "source": [
    "print(temp2_df[(temp2_df['zip'] == '12077') & (temp2_df['Home Type'] == 'All Homes')].head())\n"
   ]
  },
  {
   "cell_type": "code",
   "execution_count": null,
   "metadata": {},
   "outputs": [],
   "source": [
    "sns.lmplot(data = temp2_df, x = '30 FRM Rate', y = 'zhvi', hue = 'zip')\n",
    "plt.tight_layout()\n",
    "plt.show()"
   ]
  },
  {
   "cell_type": "code",
   "execution_count": null,
   "metadata": {},
   "outputs": [],
   "source": [
    "for zipcode in example_zips:\n",
    "    print(zipcode)\n",
    "    heatmap1 = temp2_df[temp2_df.zip == zipcode][['zhvi', '30 FRM Rate', '30 FRM Rate 1',\n",
    "                                                  '30 FRM Rate 6', '30 FRM Rate 12',\n",
    "                                                  '30 FRM Rate 24']].corr()\n",
    "    sns.heatmap(heatmap1, annot = True, cmap = \"YlGnBu\")\n",
    "    plt.yticks(rotation = 0) \n",
    "    plt.title('zhvi vs. mortgage rate' + zipcode)\n",
    "    plt.tight_layout()\n",
    "    plt.show()"
   ]
  },
  {
   "cell_type": "code",
   "execution_count": null,
   "metadata": {},
   "outputs": [],
   "source": [
    "sns.lmplot(data = temp2_df, x = '30 FRM Rate pct_change', y = 'zhvi pct_change', hue = 'zip')\n",
    "plt.tight_layout()\n",
    "plt.show()"
   ]
  },
  {
   "cell_type": "code",
   "execution_count": null,
   "metadata": {},
   "outputs": [],
   "source": [
    "for zipcode in example_zips:\n",
    "    plt.scatter(x = temp2_df[temp2_df.zip == zipcode]['30 FRM Rate pct_change 24'],\n",
    "                y = temp2_df[temp2_df.zip == zipcode]['zhvi pct_change'])\n",
    "    plt.title(zipcode)\n",
    "    plt.xlabel('30 FRM Rate pct_change')\n",
    "    plt.ylabel('zhvi pct_change')\n",
    "    plt.show()"
   ]
  },
  {
   "cell_type": "code",
   "execution_count": null,
   "metadata": {},
   "outputs": [],
   "source": [
    "for zipcode in example_zips:\n",
    "    print(zipcode)\n",
    "    heatmap2 = temp2_df[temp2_df.zip == zipcode][['zhvi pct_change', '30 FRM Rate pct_change', '30 FRM Rate pct_change 1',\n",
    "                                                  '30 FRM Rate pct_change 6', '30 FRM Rate pct_change 12',\n",
    "                                                  '30 FRM Rate pct_change 24']].corr()\n",
    "    sns.heatmap(heatmap2, annot = True, cmap = \"YlGnBu\")\n",
    "    plt.yticks(rotation = 0) \n",
    "    plt.title('zhvi changes vs. mortgage rate changes' + zipcode)\n",
    "    plt.tight_layout()\n",
    "    plt.show()"
   ]
  },
  {
   "cell_type": "code",
   "execution_count": null,
   "metadata": {},
   "outputs": [],
   "source": [
    "if True: #Target 'zhvi pct_change', trying to correct for skewness\n",
    "    temp = temp2_df['zhvi pct_change'].dropna()\n",
    "    lam = 0.0001\n",
    "    fig, (ax1, ax2, ax3) = plt.subplots(ncols = 3, figsize = (15,6))\n",
    "    sns.distplot(temp, fit = norm, ax = ax1)\n",
    "    sns.distplot(boxcox1p(temp, lam), fit = norm, ax = ax2)\n",
    "    sns.distplot(np.log1p(temp), fit = norm, ax = ax3)\n",
    "    # Get the fitted parameters used by the function\n",
    "    (mu1, sigma1) = norm.fit(temp)\n",
    "    (mu2, sigma2) = norm.fit(boxcox1p(temp, lam))\n",
    "    (mu3, sigma3) = norm.fit(np.log1p(temp))\n",
    "    ax1.legend(['Normal dist. ($\\mu=$ {:.2f} and $\\sigma=$ {:.2f} )'.format(mu1, sigma1),\n",
    "                'Skewness: {:.2f}'.format(skew(temp))],\n",
    "                loc = 'best')\n",
    "    ax2.legend(['Normal dist. ($\\mu=$ {:.2f} and $\\sigma=$ {:.2f} )'.format(mu2, sigma2),\n",
    "                'Skewness: {:.2f}'.format(skew(boxcox1p(temp, lam)))],\n",
    "                loc = 'best')\n",
    "    ax3.legend(['Normal dist. ($\\mu=$ {:.2f} and $\\sigma=$ {:.2f} )'.format(mu2, sigma3),\n",
    "                'Skewness: {:.2f}'.format(skew(np.log1p(temp)))],\n",
    "                loc = 'best')\n",
    "    ax1.set_ylabel('Frequency')\n",
    "    ax1.set_title('zhvi (% chg) Distribution')\n",
    "    ax2.set_title('zhvi (% chg) Box-Cox Transformed')\n",
    "    ax3.set_title('zhvi (% chg) Log Transformed')\n",
    "    plt.tight_layout()\n",
    "    #plt.savefig('zhvi (% chg) Distribution.png')\n",
    "    plt.show()"
   ]
  },
  {
   "cell_type": "code",
   "execution_count": null,
   "metadata": {},
   "outputs": [],
   "source": []
  },
  {
   "cell_type": "code",
   "execution_count": null,
   "metadata": {},
   "outputs": [],
   "source": []
  },
  {
   "cell_type": "code",
   "execution_count": null,
   "metadata": {},
   "outputs": [],
   "source": []
  }
 ],
 "metadata": {
  "kernelspec": {
   "display_name": "Python 3",
   "language": "python",
   "name": "python3"
  },
  "language_info": {
   "codemirror_mode": {
    "name": "ipython",
    "version": 3
   },
   "file_extension": ".py",
   "mimetype": "text/x-python",
   "name": "python",
   "nbconvert_exporter": "python",
   "pygments_lexer": "ipython3",
   "version": "3.5.3"
  }
 },
 "nbformat": 4,
 "nbformat_minor": 2
}
